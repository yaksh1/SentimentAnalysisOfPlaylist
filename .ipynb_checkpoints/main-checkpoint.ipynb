{
 "cells": [
  {
   "cell_type": "markdown",
   "metadata": {},
   "source": [
    "# Importing the modules\n"
   ]
  },
  {
   "cell_type": "code",
   "execution_count": 3,
   "metadata": {},
   "outputs": [],
   "source": [
    "import os\n",
    "import pandas as pd\n",
    "import lyricsgenius as lg\n",
    "import spotipy\n",
    "import time\n",
    "import matplotlib.pyplot as plt \n",
    "import seaborn as sns\n",
    "plt.style.use('ggplot')"
   ]
  },
  {
   "cell_type": "code",
   "execution_count": 2,
   "metadata": {},
   "outputs": [
    {
     "name": "stdout",
     "output_type": "stream",
     "text": [
      "Requirement already satisfied: lyricsgenius in c:\\users\\nehaa\\anaconda3\\lib\\site-packages (3.0.1)\n",
      "Requirement already satisfied: requests>=2.20.0 in c:\\users\\nehaa\\anaconda3\\lib\\site-packages (from lyricsgenius) (2.28.1)\n",
      "Requirement already satisfied: beautifulsoup4>=4.6.0 in c:\\users\\nehaa\\anaconda3\\lib\\site-packages (from lyricsgenius) (4.11.1)\n",
      "Requirement already satisfied: soupsieve>1.2 in c:\\users\\nehaa\\anaconda3\\lib\\site-packages (from beautifulsoup4>=4.6.0->lyricsgenius) (2.3.1)\n",
      "Requirement already satisfied: certifi>=2017.4.17 in c:\\users\\nehaa\\anaconda3\\lib\\site-packages (from requests>=2.20.0->lyricsgenius) (2022.9.14)\n",
      "Requirement already satisfied: idna<4,>=2.5 in c:\\users\\nehaa\\anaconda3\\lib\\site-packages (from requests>=2.20.0->lyricsgenius) (3.3)\n",
      "Requirement already satisfied: urllib3<1.27,>=1.21.1 in c:\\users\\nehaa\\anaconda3\\lib\\site-packages (from requests>=2.20.0->lyricsgenius) (1.26.11)\n",
      "Requirement already satisfied: charset-normalizer<3,>=2 in c:\\users\\nehaa\\anaconda3\\lib\\site-packages (from requests>=2.20.0->lyricsgenius) (2.0.4)\n",
      "Note: you may need to restart the kernel to use updated packages.\n"
     ]
    }
   ],
   "source": [
    "pip install lyricsgenius "
   ]
  },
  {
   "cell_type": "markdown",
   "metadata": {},
   "source": [
    "# Access Tokens"
   ]
  },
  {
   "cell_type": "code",
   "execution_count": 4,
   "metadata": {},
   "outputs": [],
   "source": [
    "spotipy_client_id = 'c3e43077142f4e7bb70601747bd1f0d2'\n",
    "spotipy_client_secret = '925f7025c8e6420f9be665401784c0f6'\n",
    "spotipy_redirect_uri = 'https://google.com'\n",
    "genius_access_token = 'jVHnDFkBvrvEsj_M8YUxbQ9t8mo2zIG19giBxlX_g7NeRz4W51gedM1YHTBX_U-4'"
   ]
  },
  {
   "cell_type": "code",
   "execution_count": 21,
   "metadata": {
    "scrolled": true
   },
   "outputs": [],
   "source": [
    "df = pd.read_excel('music.xlsx')"
   ]
  },
  {
   "cell_type": "code",
   "execution_count": 8,
   "metadata": {},
   "outputs": [
    {
     "data": {
      "text/plain": [
       "neg    50\n",
       "pos    50\n",
       "Name: sentiment, dtype: int64"
      ]
     },
     "execution_count": 8,
     "metadata": {},
     "output_type": "execute_result"
    }
   ],
   "source": [
    "df['sentiment'].value_counts()"
   ]
  },
  {
   "cell_type": "code",
   "execution_count": 9,
   "metadata": {},
   "outputs": [
    {
     "data": {
      "text/html": [
       "<div>\n",
       "<style scoped>\n",
       "    .dataframe tbody tr th:only-of-type {\n",
       "        vertical-align: middle;\n",
       "    }\n",
       "\n",
       "    .dataframe tbody tr th {\n",
       "        vertical-align: top;\n",
       "    }\n",
       "\n",
       "    .dataframe thead th {\n",
       "        text-align: right;\n",
       "    }\n",
       "</style>\n",
       "<table border=\"1\" class=\"dataframe\">\n",
       "  <thead>\n",
       "    <tr style=\"text-align: right;\">\n",
       "      <th></th>\n",
       "      <th>Unnamed: 0</th>\n",
       "      <th>artists</th>\n",
       "      <th>tracks</th>\n",
       "      <th>sentiment</th>\n",
       "      <th>lyrics</th>\n",
       "    </tr>\n",
       "  </thead>\n",
       "  <tbody>\n",
       "    <tr>\n",
       "      <th>0</th>\n",
       "      <td>0</td>\n",
       "      <td>Morgan Heritage</td>\n",
       "      <td>Don't Haffi Dread</td>\n",
       "      <td>neg</td>\n",
       "      <td>Don’t Haffi Dread LyricsYeah, yeah, yeah - rag...</td>\n",
       "    </tr>\n",
       "    <tr>\n",
       "      <th>1</th>\n",
       "      <td>1</td>\n",
       "      <td>Whitney Houston</td>\n",
       "      <td>My Love Is Your Love</td>\n",
       "      <td>pos</td>\n",
       "      <td>My Love is Your Love Lyrics[Intro: Background ...</td>\n",
       "    </tr>\n",
       "    <tr>\n",
       "      <th>2</th>\n",
       "      <td>2</td>\n",
       "      <td>Coro</td>\n",
       "      <td>Can't Let You Go</td>\n",
       "      <td>pos</td>\n",
       "      <td>Can’t Let You Go LyricsYeah\\n\\nI shoulda known...</td>\n",
       "    </tr>\n",
       "  </tbody>\n",
       "</table>\n",
       "</div>"
      ],
      "text/plain": [
       "   Unnamed: 0          artists                tracks sentiment  \\\n",
       "0           0  Morgan Heritage     Don't Haffi Dread       neg   \n",
       "1           1  Whitney Houston  My Love Is Your Love       pos   \n",
       "2           2             Coro      Can't Let You Go       pos   \n",
       "\n",
       "                                              lyrics  \n",
       "0  Don’t Haffi Dread LyricsYeah, yeah, yeah - rag...  \n",
       "1  My Love is Your Love Lyrics[Intro: Background ...  \n",
       "2  Can’t Let You Go LyricsYeah\\n\\nI shoulda known...  "
      ]
     },
     "execution_count": 9,
     "metadata": {},
     "output_type": "execute_result"
    }
   ],
   "source": [
    "df.head(3)"
   ]
  },
  {
   "cell_type": "code",
   "execution_count": 22,
   "metadata": {},
   "outputs": [],
   "source": [
    "df=df[['artists','tracks','sentiment','lyrics']]"
   ]
  },
  {
   "cell_type": "markdown",
   "metadata": {},
   "source": [
    "# Plotting"
   ]
  },
  {
   "cell_type": "code",
   "execution_count": 12,
   "metadata": {},
   "outputs": [
    {
     "data": {
      "text/plain": [
       "Text(0.5, 0, 'Sentiments')"
      ]
     },
     "execution_count": 12,
     "metadata": {},
     "output_type": "execute_result"
    },
    {
     "data": {
      "image/png": "[encoded data removed]",
      "text/plain": [
       "<Figure size 1000x500 with 1 Axes>"
      ]
     },
     "metadata": {},
     "output_type": "display_data"
    }
   ],
   "source": [
    "graph = df['sentiment'].value_counts().sort_index().plot(kind='bar',title='Number of Each sentiments',figsize=(10,5))\n",
    "graph.set_xlabel('Sentiments')"
   ]
  },
  {
   "cell_type": "markdown",
   "metadata": {},
   "source": [
    "# Genius API"
   ]
  },
  {
   "cell_type": "code",
   "execution_count": 13,
   "metadata": {},
   "outputs": [],
   "source": [
    "genius = lg.Genius(genius_access_token)\n"
   ]
  },
  {
   "cell_type": "code",
   "execution_count": null,
   "metadata": {},
   "outputs": [],
   "source": [
    "l=[]\n",
    "for i in range(len(df['tracks'])):\n",
    "  song = genius.search_song(title=df['tracks'][i],artist=df['artists'][i])\n",
    "  if song != None:\n",
    "    lyrics = song.lyrics\n",
    "    l.append(lyrics)\n",
    "  else:\n",
    "    l.append(None)\n",
    "\n",
    "lyrics_df = pd.DataFrame()\n",
    "lyrics_df['lyrics'] = l"
   ]
  },
  {
   "cell_type": "code",
   "execution_count": null,
   "metadata": {},
   "outputs": [],
   "source": [
    "# join both data frames\n",
    "df = pd.concat([df, lyrics_df], axis=1, join='inner')\n",
    "df.head()"
   ]
  },
  {
   "cell_type": "code",
   "execution_count": null,
   "metadata": {},
   "outputs": [],
   "source": [
    "# save data frame to excel\n",
    "df.to_excel('music.xlsx')"
   ]
  },
  {
   "cell_type": "markdown",
   "metadata": {},
   "source": [
    "# <b>Data Preprocessing</b>"
   ]
  },
  {
   "cell_type": "markdown",
   "metadata": {},
   "source": [
    "### <b>1.Data Cleaning</b>"
   ]
  },
  {
   "cell_type": "markdown",
   "metadata": {},
   "source": [
    "#### Checking for missing values\n"
   ]
  },
  {
   "cell_type": "code",
   "execution_count": 23,
   "metadata": {},
   "outputs": [
    {
     "data": {
      "text/plain": [
       "artists      0\n",
       "tracks       0\n",
       "sentiment    0\n",
       "lyrics       2\n",
       "dtype: int64"
      ]
     },
     "execution_count": 23,
     "metadata": {},
     "output_type": "execute_result"
    }
   ],
   "source": [
    "df.isna().sum()"
   ]
  },
  {
   "cell_type": "code",
   "execution_count": 24,
   "metadata": {},
   "outputs": [],
   "source": [
    "df.dropna(how='any',inplace=True)"
   ]
  },
  {
   "cell_type": "markdown",
   "metadata": {},
   "source": [
    "#### Checking for Duplicate values"
   ]
  },
  {
   "cell_type": "code",
   "execution_count": 26,
   "metadata": {},
   "outputs": [
    {
     "data": {
      "text/plain": [
       "1"
      ]
     },
     "execution_count": 26,
     "metadata": {},
     "output_type": "execute_result"
    }
   ],
   "source": [
    "df['tracks'].duplicated().sum()\n"
   ]
  },
  {
   "cell_type": "code",
   "execution_count": 27,
   "metadata": {},
   "outputs": [],
   "source": [
    "df.drop_duplicates(subset='tracks',keep='last',inplace=True)\n"
   ]
  },
  {
   "cell_type": "code",
   "execution_count": 28,
   "metadata": {},
   "outputs": [
    {
     "data": {
      "text/plain": [
       "neg    49\n",
       "pos    48\n",
       "Name: sentiment, dtype: int64"
      ]
     },
     "execution_count": 28,
     "metadata": {},
     "output_type": "execute_result"
    }
   ],
   "source": [
    "df['sentiment'].value_counts()"
   ]
  },
  {
   "cell_type": "markdown",
   "metadata": {},
   "source": [
    "### <b>2.Tokenization</b>"
   ]
  },
  {
   "cell_type": "code",
   "execution_count": 29,
   "metadata": {},
   "outputs": [
    {
     "name": "stderr",
     "output_type": "stream",
     "text": [
      "[nltk_data] Downloading package punkt to\n",
      "[nltk_data]     C:\\Users\\nehaa\\AppData\\Roaming\\nltk_data...\n",
      "[nltk_data]   Package punkt is already up-to-date!\n"
     ]
    },
    {
     "data": {
      "text/plain": [
       "True"
      ]
     },
     "execution_count": 29,
     "metadata": {},
     "output_type": "execute_result"
    }
   ],
   "source": [
    "import re\n",
    "import string\n",
    "import nltk\n",
    "from nltk.tokenize import word_tokenize\n",
    "nltk.download('punkt')"
   ]
  },
  {
   "cell_type": "code",
   "execution_count": 30,
   "metadata": {},
   "outputs": [],
   "source": [
    "def preprocessText(text, remove_stops=False):\n",
    "    \n",
    "    # Remove everything between hard brackets\n",
    "    text = re.sub(pattern=\"\\[.+?\\]( )?\", repl='', string=text)\n",
    "\n",
    "    # Change \"walkin'\" to \"walking\", for example\n",
    "    text = re.sub(pattern=\"n\\\\\\' \", repl='ng ', string=text)\n",
    "\n",
    "    # Remove x4 and (x4), for example\n",
    "    text = re.sub(pattern=\"(\\()?x\\d+(\\))?\", repl=' ', string=text)\n",
    "\n",
    "    # Fix apostrophe issues\n",
    "    text= re.sub(pattern=\"\\\\x91\", repl=\"'\", string=text)\n",
    "    text = re.sub(pattern=\"\\\\x92\", repl=\"'\", string=text)\n",
    "    text= re.sub(pattern=\"<u\\+0092>\", repl=\"'\", string=text)\n",
    "    \n",
    "    # Make lowercase\n",
    "    text = text.lower()\n",
    "\n",
    "    # Remove \\n from beginning\n",
    "    text = re.sub(pattern='^\\n', repl=' ', string=text)\n",
    "\n",
    "    # Strip , ! ?, : and remaining \\n from lyrics\n",
    "    text = ''.join([char.strip(\",!?:\") for char in text])\n",
    "    text = text.replace('\\n', '  ')\n",
    "    \n",
    "    # Remove contractions\n",
    "    # specific\n",
    "    text = re.sub(r\"won't\", \"will not\", text)\n",
    "    text = re.sub(r\"won\\’t\", \"will not\", text)\n",
    "    text = re.sub(r\"can't\", \"can not\", text)\n",
    "    text = re.sub(r\"can\\’t\", \"can not\", text)\n",
    "    text = re.sub(r\"let's\", \"let us\", text)\n",
    "    text = re.sub(r\"let\\’s\", \"let us\", text)\n",
    "    text = re.sub(r\"ain't\", \"aint\", text)\n",
    "    text = re.sub(r\"ain\\’t\", \"aint\", text)\n",
    "    text = re.sub(r\"wanna\", \"want to\", text)\n",
    "    text = re.sub(r\"gonna\", \"going to\", text)\n",
    "    text = re.sub(r\"gotta\", \"go to\", text)\n",
    "    \n",
    "    # general\n",
    "    text = re.sub(r\"n\\'t\", \" not\", text)\n",
    "    text = re.sub(r\"\\'re\", \" are\", text)\n",
    "    text = re.sub(r\"\\'s\", \" is\", text)\n",
    "    text = re.sub(r\"\\'d\", \" would\", text)\n",
    "    text = re.sub(r\"\\'ll\", \" will\", text)\n",
    "    text = re.sub(r\"\\'t\", \" not\", text)\n",
    "    text = re.sub(r\"\\'ve\", \" have\", text)\n",
    "    text = re.sub(r\"\\'m\", \" am\", text)\n",
    "    text = re.sub(r\"n\\’t\", \" not\", text)\n",
    "    text = re.sub(r\"\\’re\", \" are\", text)\n",
    "    text = re.sub(r\"\\’s\", \" is\", text)\n",
    "    text = re.sub(r\"\\’d\", \" would\", text)\n",
    "    text = re.sub(r\"\\’ll\", \" will\", text)\n",
    "    text = re.sub(r\"\\’t\", \" not\", text)\n",
    "    text = re.sub(r\"\\’ve\", \" have\", text)\n",
    "    text = re.sub(r\"\\’m\", \" am\", text)\n",
    "    text = re.sub(r\"\\â\", \"a\", text)\n",
    "    \n",
    "    # Remove Symbols\n",
    "    text = re.sub(r\"[^\\w\\s]\",\"\", text)\n",
    "    \n",
    "    # remove single char\n",
    "    text = re.sub(r\"\\b[a-zA-Z]\\b\",\"\", text)\n",
    "   \n",
    "    #remove number\n",
    "    text = re.sub(r\"\\d+\", \"\", text)\n",
    "    \n",
    "    #remove duplicate char(oohhh,ohhhh,oohhhh,etc)\n",
    "    text = re.sub(r\"o+h\", \"oh\", text)\n",
    "    text = re.sub(r\"oh+\", \"\", text)\n",
    "    \n",
    "    # Remove remaining punctuation\n",
    "    punc = string.punctuation\n",
    "    text = ''.join([char for char in text if char not in punc])\n",
    "\n",
    "    # Remove double spaces and beginning/trailing whitespace\n",
    "    text = re.sub(pattern='( ){2,}', repl=' ', string=text)\n",
    "    text = text.strip()\n",
    "    \n",
    "    return(text)\n",
    "\n",
    "df['lyrics'] = df['lyrics'].apply(preprocessText)"
   ]
  },
  {
   "cell_type": "markdown",
   "metadata": {},
   "source": [
    "### <b>3.Stopwords Removal</b>"
   ]
  },
  {
   "cell_type": "code",
   "execution_count": 31,
   "metadata": {},
   "outputs": [],
   "source": [
    "import neattext.functions as nfx\n"
   ]
  },
  {
   "cell_type": "code",
   "execution_count": 32,
   "metadata": {},
   "outputs": [],
   "source": [
    "df['lyrics'] = df['lyrics'].apply(nfx.remove_stopwords)"
   ]
  },
  {
   "cell_type": "code",
   "execution_count": 33,
   "metadata": {},
   "outputs": [
    {
     "data": {
      "text/html": [
       "<div>\n",
       "<style scoped>\n",
       "    .dataframe tbody tr th:only-of-type {\n",
       "        vertical-align: middle;\n",
       "    }\n",
       "\n",
       "    .dataframe tbody tr th {\n",
       "        vertical-align: top;\n",
       "    }\n",
       "\n",
       "    .dataframe thead th {\n",
       "        text-align: right;\n",
       "    }\n",
       "</style>\n",
       "<table border=\"1\" class=\"dataframe\">\n",
       "  <thead>\n",
       "    <tr style=\"text-align: right;\">\n",
       "      <th></th>\n",
       "      <th>artists</th>\n",
       "      <th>tracks</th>\n",
       "      <th>sentiment</th>\n",
       "      <th>lyrics</th>\n",
       "    </tr>\n",
       "  </thead>\n",
       "  <tbody>\n",
       "    <tr>\n",
       "      <th>0</th>\n",
       "      <td>Morgan Heritage</td>\n",
       "      <td>Don't Haffi Dread</td>\n",
       "      <td>neg</td>\n",
       "      <td>haffi dread lyricsyeah yeah yeah ragga ragga h...</td>\n",
       "    </tr>\n",
       "    <tr>\n",
       "      <th>1</th>\n",
       "      <td>Whitney Houston</td>\n",
       "      <td>My Love Is Your Love</td>\n",
       "      <td>pos</td>\n",
       "      <td>love love lyrics clap hands yall alright turn ...</td>\n",
       "    </tr>\n",
       "    <tr>\n",
       "      <th>2</th>\n",
       "      <td>Coro</td>\n",
       "      <td>Can't Let You Go</td>\n",
       "      <td>pos</td>\n",
       "      <td>let lyricsyeah shoulda known way serves right ...</td>\n",
       "    </tr>\n",
       "  </tbody>\n",
       "</table>\n",
       "</div>"
      ],
      "text/plain": [
       "           artists                tracks sentiment  \\\n",
       "0  Morgan Heritage     Don't Haffi Dread       neg   \n",
       "1  Whitney Houston  My Love Is Your Love       pos   \n",
       "2             Coro      Can't Let You Go       pos   \n",
       "\n",
       "                                              lyrics  \n",
       "0  haffi dread lyricsyeah yeah yeah ragga ragga h...  \n",
       "1  love love lyrics clap hands yall alright turn ...  \n",
       "2  let lyricsyeah shoulda known way serves right ...  "
      ]
     },
     "execution_count": 33,
     "metadata": {},
     "output_type": "execute_result"
    }
   ],
   "source": [
    "df.head(3)"
   ]
  },
  {
   "cell_type": "markdown",
   "metadata": {},
   "source": [
    "# Vader Algorithm"
   ]
  },
  {
   "cell_type": "code",
   "execution_count": 34,
   "metadata": {},
   "outputs": [],
   "source": [
    "from vaderSentiment.vaderSentiment import SentimentIntensityAnalyzer\n",
    "\n",
    "analyser = SentimentIntensityAnalyzer()\n",
    "\n",
    "sentiment_list = []\n",
    "sentiment_score_list = []\n",
    "\n",
    "for i in df['lyrics']:\n",
    "    try:\n",
    "        sentiment_score = analyser.polarity_scores(i)\n",
    "\n",
    "        if sentiment_score['compound'] >= 0.2:\n",
    "            sentiment_percentage = sentiment_score['compound']\n",
    "            sentiment = 'Positive'\n",
    "        elif sentiment_score['compound'] > -0.2 and sentiment_score['compound'] < 0.2:\n",
    "            sentiment_percentage = sentiment_score['compound']\n",
    "            sentiment = 'Neutral'\n",
    "        elif sentiment_score['compound'] <= -0.2:\n",
    "            sentiment_percentage = sentiment_score['compound']\n",
    "            sentiment = 'Negative'\n",
    "\n",
    "        sentiment_list.append(sentiment)\n",
    "        sentiment_score_list.append((abs(sentiment_percentage) * 100))\n",
    "        \n",
    "    except:\n",
    "        sentiment_list.append('None')\n",
    "        sentiment_score_list.append(0)\n",
    "\n",
    "df['vader_sentiment'] = sentiment_list\n"
   ]
  },
  {
   "cell_type": "code",
   "execution_count": 35,
   "metadata": {},
   "outputs": [
    {
     "data": {
      "text/plain": [
       "Positive    63\n",
       "Negative    32\n",
       "Neutral      2\n",
       "Name: vader_sentiment, dtype: int64"
      ]
     },
     "execution_count": 35,
     "metadata": {},
     "output_type": "execute_result"
    }
   ],
   "source": [
    "df.vader_sentiment.value_counts()"
   ]
  },
  {
   "cell_type": "code",
   "execution_count": 36,
   "metadata": {},
   "outputs": [
    {
     "data": {
      "text/html": [
       "<div>\n",
       "<style scoped>\n",
       "    .dataframe tbody tr th:only-of-type {\n",
       "        vertical-align: middle;\n",
       "    }\n",
       "\n",
       "    .dataframe tbody tr th {\n",
       "        vertical-align: top;\n",
       "    }\n",
       "\n",
       "    .dataframe thead th {\n",
       "        text-align: right;\n",
       "    }\n",
       "</style>\n",
       "<table border=\"1\" class=\"dataframe\">\n",
       "  <thead>\n",
       "    <tr style=\"text-align: right;\">\n",
       "      <th></th>\n",
       "      <th>artists</th>\n",
       "      <th>tracks</th>\n",
       "      <th>sentiment</th>\n",
       "      <th>lyrics</th>\n",
       "      <th>vader_sentiment</th>\n",
       "    </tr>\n",
       "  </thead>\n",
       "  <tbody>\n",
       "    <tr>\n",
       "      <th>0</th>\n",
       "      <td>Morgan Heritage</td>\n",
       "      <td>Don't Haffi Dread</td>\n",
       "      <td>neg</td>\n",
       "      <td>haffi dread lyricsyeah yeah yeah ragga ragga h...</td>\n",
       "      <td>Positive</td>\n",
       "    </tr>\n",
       "    <tr>\n",
       "      <th>1</th>\n",
       "      <td>Whitney Houston</td>\n",
       "      <td>My Love Is Your Love</td>\n",
       "      <td>pos</td>\n",
       "      <td>love love lyrics clap hands yall alright turn ...</td>\n",
       "      <td>Positive</td>\n",
       "    </tr>\n",
       "    <tr>\n",
       "      <th>2</th>\n",
       "      <td>Coro</td>\n",
       "      <td>Can't Let You Go</td>\n",
       "      <td>pos</td>\n",
       "      <td>let lyricsyeah shoulda known way serves right ...</td>\n",
       "      <td>Positive</td>\n",
       "    </tr>\n",
       "  </tbody>\n",
       "</table>\n",
       "</div>"
      ],
      "text/plain": [
       "           artists                tracks sentiment  \\\n",
       "0  Morgan Heritage     Don't Haffi Dread       neg   \n",
       "1  Whitney Houston  My Love Is Your Love       pos   \n",
       "2             Coro      Can't Let You Go       pos   \n",
       "\n",
       "                                              lyrics vader_sentiment  \n",
       "0  haffi dread lyricsyeah yeah yeah ragga ragga h...        Positive  \n",
       "1  love love lyrics clap hands yall alright turn ...        Positive  \n",
       "2  let lyricsyeah shoulda known way serves right ...        Positive  "
      ]
     },
     "execution_count": 36,
     "metadata": {},
     "output_type": "execute_result"
    }
   ],
   "source": [
    "df.head(3)"
   ]
  },
  {
   "cell_type": "markdown",
   "metadata": {},
   "source": [
    "### label encoding"
   ]
  },
  {
   "cell_type": "code",
   "execution_count": 47,
   "metadata": {},
   "outputs": [],
   "source": [
    "from sklearn.preprocessing import LabelEncoder\n",
    "from sklearn.utils import resample"
   ]
  },
  {
   "cell_type": "code",
   "execution_count": 48,
   "metadata": {},
   "outputs": [],
   "source": [
    "le = LabelEncoder()\n",
    "df['sentiment'] = le.fit_transform(df['sentiment'])  # 1->positive 0->negative"
   ]
  },
  {
   "cell_type": "code",
   "execution_count": 49,
   "metadata": {},
   "outputs": [
    {
     "data": {
      "text/html": [
       "<div>\n",
       "<style scoped>\n",
       "    .dataframe tbody tr th:only-of-type {\n",
       "        vertical-align: middle;\n",
       "    }\n",
       "\n",
       "    .dataframe tbody tr th {\n",
       "        vertical-align: top;\n",
       "    }\n",
       "\n",
       "    .dataframe thead th {\n",
       "        text-align: right;\n",
       "    }\n",
       "</style>\n",
       "<table border=\"1\" class=\"dataframe\">\n",
       "  <thead>\n",
       "    <tr style=\"text-align: right;\">\n",
       "      <th></th>\n",
       "      <th>artists</th>\n",
       "      <th>tracks</th>\n",
       "      <th>sentiment</th>\n",
       "      <th>lyrics</th>\n",
       "      <th>vader_sentiment</th>\n",
       "    </tr>\n",
       "  </thead>\n",
       "  <tbody>\n",
       "    <tr>\n",
       "      <th>0</th>\n",
       "      <td>Green Day</td>\n",
       "      <td>Longview</td>\n",
       "      <td>0</td>\n",
       "      <td>longview lyrics sit watch tube change channels...</td>\n",
       "      <td>Negative</td>\n",
       "    </tr>\n",
       "    <tr>\n",
       "      <th>1</th>\n",
       "      <td>Playing For Change</td>\n",
       "      <td>Don't Worry</td>\n",
       "      <td>1</td>\n",
       "      <td>worry lyricslet worry brother world find peace...</td>\n",
       "      <td>Positive</td>\n",
       "    </tr>\n",
       "    <tr>\n",
       "      <th>2</th>\n",
       "      <td>Alice Cooper</td>\n",
       "      <td>No More Mr. Nice Guy</td>\n",
       "      <td>0</td>\n",
       "      <td>mr nice guy lyrics sweet sweet thing notil got...</td>\n",
       "      <td>Positive</td>\n",
       "    </tr>\n",
       "  </tbody>\n",
       "</table>\n",
       "</div>"
      ],
      "text/plain": [
       "              artists                tracks  sentiment  \\\n",
       "0           Green Day              Longview          0   \n",
       "1  Playing For Change           Don't Worry          1   \n",
       "2        Alice Cooper  No More Mr. Nice Guy          0   \n",
       "\n",
       "                                              lyrics vader_sentiment  \n",
       "0  longview lyrics sit watch tube change channels...        Negative  \n",
       "1  worry lyricslet worry brother world find peace...        Positive  \n",
       "2  mr nice guy lyrics sweet sweet thing notil got...        Positive  "
      ]
     },
     "execution_count": 49,
     "metadata": {},
     "output_type": "execute_result"
    }
   ],
   "source": [
    "df.head(3)"
   ]
  },
  {
   "cell_type": "code",
   "execution_count": 50,
   "metadata": {},
   "outputs": [],
   "source": [
    "corpus = []\n",
    "for sentence in df['lyrics']:\n",
    "    corpus.append(sentence)"
   ]
  },
  {
   "cell_type": "markdown",
   "metadata": {},
   "source": [
    "### countvecterizer"
   ]
  },
  {
   "cell_type": "code",
   "execution_count": 51,
   "metadata": {},
   "outputs": [],
   "source": [
    "from sklearn.feature_extraction.text import CountVectorizer\n",
    "cv = CountVectorizer(ngram_range=(1,2))\n",
    "X = cv.fit_transform(corpus).toarray()\n",
    "y = df.iloc[:, -3].values"
   ]
  },
  {
   "cell_type": "markdown",
   "metadata": {},
   "source": [
    "### radomising rows"
   ]
  },
  {
   "cell_type": "code",
   "execution_count": 52,
   "metadata": {},
   "outputs": [],
   "source": [
    "df = df.sample(frac=1).reset_index(drop=True)"
   ]
  },
  {
   "cell_type": "markdown",
   "metadata": {},
   "source": [
    "# <b>Training Models</b>"
   ]
  },
  {
   "cell_type": "code",
   "execution_count": 59,
   "metadata": {},
   "outputs": [],
   "source": [
    "# gaussian naive bayes\n",
    "from sklearn.naive_bayes import GaussianNB\n",
    "# ada boost classifier\n",
    "from sklearn.ensemble import AdaBoostClassifier\n",
    "# K nearest neighbors\n",
    "from sklearn.neighbors import KNeighborsClassifier\n",
    "from sklearn.tree import DecisionTreeClassifier\n",
    "from sklearn.ensemble import RandomForestClassifier\n",
    "# train test split\n",
    "from sklearn.model_selection import train_test_split\n",
    "# confusion matrix and accuracy score\n",
    "from sklearn.metrics import confusion_matrix, accuracy_score\n",
    "# other metrics\n",
    "from sklearn.metrics import f1_score, precision_score, recall_score\n"
   ]
  },
  {
   "cell_type": "code",
   "execution_count": 60,
   "metadata": {},
   "outputs": [],
   "source": [
    "# splitting the training set\n",
    "X_train, X_test, y_train, y_test = train_test_split(X, y, test_size=0.2, random_state=123)"
   ]
  },
  {
   "cell_type": "markdown",
   "metadata": {},
   "source": [
    "# 1. GaussianNB"
   ]
  },
  {
   "cell_type": "code",
   "execution_count": 61,
   "metadata": {},
   "outputs": [
    {
     "name": "stdout",
     "output_type": "stream",
     "text": [
      "Accuracy Score : 45.0 %\n",
      "F-1 Score :  0.4210526315789474\n",
      "Precision Score :  0.5\n",
      "Recall Score :  0.36363636363636365\n"
     ]
    }
   ],
   "source": [
    "gnb_model = GaussianNB()\n",
    "gnb_model.fit(X_train, y_train)\n",
    "y_pred = gnb_model.predict(X_test)\n",
    "print(\"Accuracy Score :\", round(accuracy_score(y_test, y_pred)*100 ,2), \"%\")  \n",
    "print('F-1 Score : ',(f1_score(y_test, y_pred)))\n",
    "print('Precision Score : ',(precision_score(y_test, y_pred)))\n",
    "print('Recall Score : ',(recall_score(y_test, y_pred)))"
   ]
  },
  {
   "cell_type": "markdown",
   "metadata": {},
   "source": [
    "# 2. AdaBoost"
   ]
  },
  {
   "cell_type": "code",
   "execution_count": 62,
   "metadata": {},
   "outputs": [
    {
     "name": "stdout",
     "output_type": "stream",
     "text": [
      "Accuracy Score : 80.0 %\n",
      "F-1 Score :  0.7777777777777778\n",
      "Precision Score :  1.0\n",
      "Recall Score :  0.6363636363636364\n"
     ]
    }
   ],
   "source": [
    "ada_model = AdaBoostClassifier(random_state=123)\n",
    "ada_model.fit(X_train, y_train)\n",
    "y_pred = ada_model.predict(X_test)\n",
    "print(\"Accuracy Score :\", round(accuracy_score(y_test, y_pred)*100 ,2), \"%\")\n",
    "print('F-1 Score : ',(f1_score(y_test, y_pred)))\n",
    "print('Precision Score : ',(precision_score(y_test, y_pred)))\n",
    "print('Recall Score : ',(recall_score(y_test, y_pred)))"
   ]
  },
  {
   "cell_type": "markdown",
   "metadata": {},
   "source": [
    "# 3. K-Nearest Neighbor"
   ]
  },
  {
   "cell_type": "code",
   "execution_count": 63,
   "metadata": {},
   "outputs": [
    {
     "name": "stdout",
     "output_type": "stream",
     "text": [
      "Accuracy Score : 70.0 %\n",
      "F-1 Score :  0.625\n",
      "Precision Score :  1.0\n",
      "Recall Score :  0.45454545454545453\n"
     ]
    },
    {
     "name": "stderr",
     "output_type": "stream",
     "text": [
      "C:\\Users\\nehaa\\anaconda3\\lib\\site-packages\\sklearn\\neighbors\\_classification.py:228: FutureWarning: Unlike other reduction functions (e.g. `skew`, `kurtosis`), the default behavior of `mode` typically preserves the axis it acts along. In SciPy 1.11.0, this behavior will change: the default value of `keepdims` will become False, the `axis` over which the statistic is taken will be eliminated, and the value None will no longer be accepted. Set `keepdims` to True or False to avoid this warning.\n",
      "  mode, _ = stats.mode(_y[neigh_ind, k], axis=1)\n"
     ]
    }
   ],
   "source": [
    "knn_model = KNeighborsClassifier()\n",
    "knn_model.fit(X_train, y_train)\n",
    "y_pred = knn_model.predict(X_test)\n",
    "print(\"Accuracy Score :\", round(accuracy_score(y_test, y_pred)*100 ,2), \"%\")\n",
    "print('F-1 Score : ',(f1_score(y_test, y_pred)))\n",
    "print('Precision Score : ',(precision_score(y_test, y_pred)))\n",
    "print('Recall Score : ',(recall_score(y_test, y_pred)))"
   ]
  },
  {
   "cell_type": "markdown",
   "metadata": {},
   "source": [
    "4.Decision Tree "
   ]
  },
  {
   "cell_type": "code",
   "execution_count": 65,
   "metadata": {},
   "outputs": [
    {
     "name": "stdout",
     "output_type": "stream",
     "text": [
      "Accuracy Score : 90.0 %\n",
      "F-1 Score :  0.9\n",
      "Precision Score :  1.0\n",
      "Recall Score :  0.8181818181818182\n"
     ]
    },
    {
     "data": {
      "text/plain": [
       "array([[9, 0],\n",
       "       [2, 9]], dtype=int64)"
      ]
     },
     "execution_count": 65,
     "metadata": {},
     "output_type": "execute_result"
    }
   ],
   "source": [
    "dt_model = DecisionTreeClassifier()\n",
    "dt_model.fit(X_train,y_train)\n",
    "y_pred = dt_model.predict(X_test)\n",
    "print(\"Accuracy Score :\", round(accuracy_score(y_test, y_pred)*100 ,2), \"%\")\n",
    "print('F-1 Score : ',(f1_score(y_test, y_pred)))\n",
    "print('Precision Score : ',(precision_score(y_test, y_pred)))\n",
    "print('Recall Score : ',(recall_score(y_test, y_pred)))\n",
    "confusion_matrix(y_test,y_pred,labels=[0,1])"
   ]
  },
  {
   "cell_type": "markdown",
   "metadata": {},
   "source": [
    "5. Random Forest"
   ]
  },
  {
   "cell_type": "code",
   "execution_count": 66,
   "metadata": {},
   "outputs": [
    {
     "name": "stdout",
     "output_type": "stream",
     "text": [
      "Accuracy Score : 55.0 %\n",
      "F-1 Score :  0.3076923076923077\n",
      "Precision Score :  1.0\n",
      "Recall Score :  0.18181818181818182\n"
     ]
    },
    {
     "data": {
      "text/plain": [
       "array([[9, 0],\n",
       "       [9, 2]], dtype=int64)"
      ]
     },
     "execution_count": 66,
     "metadata": {},
     "output_type": "execute_result"
    }
   ],
   "source": [
    "rf_model = RandomForestClassifier()\n",
    "rf_model = rf_model.fit(X_train,y_train)\n",
    "y_pred = rf_model.predict(X_test)\n",
    "print(\"Accuracy Score :\", round(accuracy_score(y_test, y_pred)*100 ,2), \"%\")\n",
    "print('F-1 Score : ',(f1_score(y_test, y_pred)))\n",
    "print('Precision Score : ',(precision_score(y_test, y_pred)))\n",
    "print('Recall Score : ',(recall_score(y_test, y_pred)))\n",
    "confusion_matrix(y_test,y_pred,labels=[0,1])"
   ]
  },
  {
   "cell_type": "markdown",
   "metadata": {},
   "source": [
    "# Saving model"
   ]
  },
  {
   "cell_type": "code",
   "execution_count": 67,
   "metadata": {},
   "outputs": [],
   "source": [
    "import pickle"
   ]
  },
  {
   "cell_type": "code",
   "execution_count": 69,
   "metadata": {},
   "outputs": [],
   "source": [
    "pickle.dump(knn_model,open('models/knn.pkl','wb'))\n",
    "pickle.dump(gnb_model,open('models/gnb.pkl','wb'))\n",
    "pickle.dump(ada_model,open('models/ada.pkl','wb'))\n",
    "pickle.dump(dt_model,open('models/dt.pkl','wb'))\n",
    "pickle.dump(rf_model,open('models/rf.pkl','wb'))\n"
   ]
  },
  {
   "cell_type": "code",
   "execution_count": null,
   "metadata": {},
   "outputs": [],
   "source": []
  }
 ],
 "metadata": {
  "kernelspec": {
   "display_name": "Python 3 (ipykernel)",
   "language": "python",
   "name": "python3"
  },
  "language_info": {
   "codemirror_mode": {
    "name": "ipython",
    "version": 3
   },
   "file_extension": ".py",
   "mimetype": "text/x-python",
   "name": "python",
   "nbconvert_exporter": "python",
   "pygments_lexer": "ipython3",
   "version": "3.9.13"
  },
  "vscode": {
   "interpreter": {
    "hash": "5238573367df39f7286bb46f9ff5f08f63a01a80960060ce41e3c79b190280fa"
   }
  }
 },
 "nbformat": 4,
 "nbformat_minor": 2
}
